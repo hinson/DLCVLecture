{
 "cells": [
  {
   "cell_type": "markdown",
   "metadata": {},
   "source": [
    "# Basics of Tensor Ops"
   ]
  },
  {
   "cell_type": "code",
   "execution_count": null,
   "metadata": {},
   "outputs": [],
   "source": [
    "import os\n",
    "import numpy as np\n",
    "import torch"
   ]
  },
  {
   "cell_type": "markdown",
   "metadata": {},
   "source": [
    "## 1. Determine which GPU to use\n",
    "\n",
    "Reference:\n",
    "\n",
    "`hash`: https://docs.python.org/3/library/functions.html?highlight=hash#hash\n",
    "\n",
    "`os.getlogin`: https://docs.python.org/3/library/os.html?highlight=getlogin#os.getlogin\n",
    "\n",
    "`torch.device`: https://pytorch.org/docs/stable/generated/torch.cuda.device.html\n",
    "\n",
    "`torch.cuda.is_available`: https://pytorch.org/docs/stable/generated/torch.cuda.is_available.html"
   ]
  },
  {
   "cell_type": "code",
   "execution_count": null,
   "metadata": {},
   "outputs": [],
   "source": [
    "# gpu_no = 0\n",
    "gpu_no = hash(os.getlogin()) % 4\n",
    "\n",
    "device = torch.device(f'cuda:{gpu_no}' if torch.cuda.is_available() else 'cpu')\n",
    "print(device)\n"
   ]
  },
  {
   "cell_type": "markdown",
   "metadata": {},
   "source": [
    "## 2. Tensor ops\n",
    "\n",
    "### 2.1 Initializing\n",
    "\n",
    "References:\n",
    "\n",
    "Data types: https://pytorch.org/docs/stable/tensors.html#data-types\n",
    "\n",
    "Creation ops: \n",
    "- https://pytorch.org/docs/stable/tensors.html#initializing-and-basic-operations\n",
    "- https://pytorch.org/docs/stable/torch.html#creation-ops\n",
    "\n"
   ]
  },
  {
   "cell_type": "code",
   "execution_count": null,
   "metadata": {},
   "outputs": [],
   "source": [
    "from inspect import currentframe as cf\n",
    "\n",
    "arr = np.array([0., 1., 2., 3., ], dtype=np.float32)\n",
    "print(cf().f_lineno, arr, '\\n')\n",
    "\n",
    "arr = torch.from_numpy(arr).to(device)\n",
    "print(cf().f_lineno, arr, '\\n')\n",
    "\n",
    "vec = arr[None, :].to(device)\n",
    "print(cf().f_lineno, vec, '\\n')\n",
    "\n",
    "vec = (vec+1.).t()\n",
    "print(cf().f_lineno, vec, '\\n')\n",
    "\n",
    "mat = torch.vstack((arr**2, torch.hstack((vec, vec-vec/2, vec*2., vec/vec))))\n",
    "print(cf().f_lineno, mat)\n",
    "print(cf().f_lineno, mat.size(), '\\n')\n",
    "\n",
    "ten = torch.stack((mat, mat/mat))\n",
    "print(cf().f_lineno, ten)\n",
    "print(cf().f_lineno, ten.size())\n"
   ]
  },
  {
   "cell_type": "markdown",
   "metadata": {},
   "source": [
    "#### 2.1.1 Viewing GPU momory usage"
   ]
  },
  {
   "cell_type": "code",
   "execution_count": null,
   "metadata": {},
   "outputs": [],
   "source": [
    "! nvidia-smi"
   ]
  },
  {
   "cell_type": "markdown",
   "metadata": {},
   "source": [
    "### 2.2 Indexing, slicing and masking\n",
    "\n",
    "References:\n",
    "\n",
    "https://pytorch.org/docs/stable/torch.html#indexing-slicing-joining-mutating-ops\n"
   ]
  },
  {
   "cell_type": "code",
   "execution_count": null,
   "metadata": {},
   "outputs": [],
   "source": [
    "print(cf().f_lineno, mat[3, 1], '\\n')\n",
    "\n",
    "# same as [slice(None, 3), slice(1, None, 2)]\n",
    "print(cf().f_lineno, mat[:3, 1::2], '\\n')\n",
    "\n",
    "print(cf().f_lineno, ten[..., 2],\n",
    "      '\\n')           # same as [Ellipsis, 2]\n",
    "\n",
    "print(cf().f_lineno, mat[torch.arange(1, mat.size(0)),\n",
    "      torch.tensor([3, 2, 1, 0])], '\\n')\n",
    "\n",
    "print(cf().f_lineno, mat[mat.nonzero(as_tuple=True)], '\\n')\n",
    "\n",
    "print(cf().f_lineno, mat[mat > 2.], '\\n')\n",
    "\n",
    "print(cf().f_lineno, torch.where(\n",
    "    ten > 1., ten, torch.tensor(-1.)))"
   ]
  },
  {
   "cell_type": "markdown",
   "metadata": {},
   "source": [
    "### 2.3 Math ops\n",
    "\n",
    "\n",
    "References:\n",
    "\n",
    "Broadcasting: \n",
    "- https://numpy.org/doc/stable/user/basics.broadcasting.html\n",
    "\n",
    "- https://pytorch.org/docs/stable/notes/broadcasting.html\n",
    "\n",
    "Advanced ops: https://pytorch.org/docs/stable/torch.html#math-operations"
   ]
  },
  {
   "cell_type": "code",
   "execution_count": null,
   "metadata": {},
   "outputs": [],
   "source": [
    "print(mat * ten)\n",
    "print(mat.size(), '*', ten.size(), '\\n')\n",
    "\n",
    "print(mat @ vec)\n",
    "print(mat.size(), '@', {vec.size()}, '\\n')\n"
   ]
  },
  {
   "cell_type": "markdown",
   "metadata": {},
   "source": [
    "## 3 Release the GPU resource\n",
    "\n",
    "Finally, click `Running` in Jupyter homepage to shutdown the kernel to prevent Python processes from occupying the GPU."
   ]
  }
 ],
 "metadata": {
  "interpreter": {
   "hash": "ebc703e425ee0b9325a455ea19101c17d046291400ccb20b65962b1f18ddcac2"
  },
  "kernelspec": {
   "display_name": "Python 3 (ipykernel)",
   "language": "python",
   "name": "python3"
  },
  "language_info": {
   "codemirror_mode": {
    "name": "ipython",
    "version": 3
   },
   "file_extension": ".py",
   "mimetype": "text/x-python",
   "name": "python",
   "nbconvert_exporter": "python",
   "pygments_lexer": "ipython3",
   "version": "3.9.10"
  }
 },
 "nbformat": 4,
 "nbformat_minor": 2
}
